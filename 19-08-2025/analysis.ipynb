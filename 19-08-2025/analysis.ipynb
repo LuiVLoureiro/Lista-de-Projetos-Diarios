{
 "cells": [
  {
   "cell_type": "code",
   "execution_count": 153,
   "id": "b1cade39",
   "metadata": {},
   "outputs": [],
   "source": [
    "import pandas as pd\n",
    "import numpy as np"
   ]
  },
  {
   "cell_type": "markdown",
   "id": "aa2ea1b0",
   "metadata": {},
   "source": [
    "### Análise\n",
    "\n",
    "- média e desvio de score por game\n",
    "- Percentis p10/p50/p90 por jogo (NumPy).\n",
    "- Z-score do score por jogo para marcar partidas “Épicas” (|z| ≥ 2)."
   ]
  },
  {
   "cell_type": "code",
   "execution_count": 155,
   "id": "c0c77e83",
   "metadata": {},
   "outputs": [
    {
     "name": "stdout",
     "output_type": "stream",
     "text": [
      "O Jogo de Memória teve a seguinte media: 476.87\n",
      "O Jogo de Memória teve o seguinte desvio: 13.24\n",
      "O Jogo de Reflexo teve a seguinte media: 47.16\n",
      "O Jogo de Reflexo teve o seguinte desvio: 29.26\n"
     ]
    }
   ],
   "source": [
    "df = pd.read_csv(\"./data/arcade.csv\")\n",
    "memoria_lista = df[df[\"game\"] == \"Memória\"][\"score\"]\n",
    "reflexo_lista = df[df[\"game\"] == \"Reflexo\"][\"score\"]\n",
    "\n",
    "print(f\"O Jogo de Memória teve a seguinte media: {np.mean(memoria_lista):.2f}\")\n",
    "print(f\"O Jogo de Memória teve o seguinte desvio: {np.std(memoria_lista):.2f}\")\n",
    "print(f\"O Jogo de Reflexo teve a seguinte media: {np.mean(reflexo_lista):.2f}\")\n",
    "print(f\"O Jogo de Reflexo teve o seguinte desvio: {np.std(reflexo_lista):.2f}\")\n",
    "\n"
   ]
  },
  {
   "cell_type": "markdown",
   "id": "0b16b782",
   "metadata": {},
   "source": [
    "- média e desvio por player"
   ]
  },
  {
   "cell_type": "code",
   "execution_count": 156,
   "id": "31d3c11b",
   "metadata": {},
   "outputs": [
    {
     "name": "stdout",
     "output_type": "stream",
     "text": [
      "Jogador: Ana \n",
      "Média: 237.20 \n",
      "Desvio: 218.08\n",
      "\n",
      "Jogador: Bruno \n",
      "Média: 283.17 \n",
      "Desvio: 214.76\n",
      "\n",
      "Jogador: Carlos \n",
      "Média: 270.09 \n",
      "Desvio: 218.86\n",
      "\n",
      "Jogador: Daniela \n",
      "Média: 245.45 \n",
      "Desvio: 210.13\n",
      "\n",
      "Jogador: Eduardo \n",
      "Média: 299.45 \n",
      "Desvio: 211.60\n",
      "\n"
     ]
    }
   ],
   "source": [
    "\n",
    "lista_jogadores = []\n",
    "for player in df[\"player\"]:\n",
    "    if player not in lista_jogadores:\n",
    "        lista_jogadores.append(player)\n",
    "    else:\n",
    "        pass\n",
    "\n",
    "for jogador in lista_jogadores:\n",
    "    score_jogador = df[df[\"player\"] == jogador][\"score\"]\n",
    "    print(f\"Jogador: {jogador} \\nMédia: {np.mean(score_jogador):.2f} \\nDesvio: {np.std(score_jogador):.2f}\\n\")\n"
   ]
  },
  {
   "cell_type": "markdown",
   "id": "65a9b4db",
   "metadata": {},
   "source": [
    "- média diária por player (usar ts → dia)"
   ]
  },
  {
   "cell_type": "code",
   "execution_count": 170,
   "id": "dddf049b",
   "metadata": {},
   "outputs": [
    {
     "name": "stdout",
     "output_type": "stream",
     "text": [
      "<pandas.core.groupby.generic.DataFrameGroupBy object at 0x0000028522D08130>\n"
     ]
    }
   ],
   "source": [
    "\n",
    "\n",
    "df[\"ts\"] = pd.to_datetime(df[\"ts\"])\n",
    "\n",
    "df[\"dia\"] = df[\"ts\"].dt.date\n",
    "\n",
    "\n",
    "divisao = df.groupby([\"player\", \"dia\"])\n",
    "print(divisao)"
   ]
  },
  {
   "cell_type": "markdown",
   "id": "44c4d864",
   "metadata": {},
   "source": [
    "### Visualização\n",
    "\n",
    "- Top 5 jogadores (barra) por score médio.\n",
    "- Histograma de score por jogo (um por vez).\n",
    "- Série temporal: média diária de score do jogador selecionado."
   ]
  }
 ],
 "metadata": {
  "kernelspec": {
   "display_name": "venv",
   "language": "python",
   "name": "python3"
  },
  "language_info": {
   "codemirror_mode": {
    "name": "ipython",
    "version": 3
   },
   "file_extension": ".py",
   "mimetype": "text/x-python",
   "name": "python",
   "nbconvert_exporter": "python",
   "pygments_lexer": "ipython3",
   "version": "3.13.2"
  }
 },
 "nbformat": 4,
 "nbformat_minor": 5
}
