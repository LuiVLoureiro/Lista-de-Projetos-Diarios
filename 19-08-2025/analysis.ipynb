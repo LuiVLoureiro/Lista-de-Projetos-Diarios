{
 "cells": [
  {
   "cell_type": "code",
   "execution_count": 24,
   "id": "b1cade39",
   "metadata": {},
   "outputs": [],
   "source": [
    "import pandas as pd\n",
    "import numpy as np"
   ]
  },
  {
   "cell_type": "markdown",
   "id": "aa2ea1b0",
   "metadata": {},
   "source": [
    "### Análise\n",
    "\n",
    "- média e desvio de score por game\n",
    "- média e desvio por player\n",
    "- média diária por player (usar ts → dia)\n",
    "- Percentis p10/p50/p90 por jogo (NumPy).\n",
    "- Z-score do score por jogo para marcar partidas “Épicas” (|z| ≥ 2)."
   ]
  },
  {
   "cell_type": "code",
   "execution_count": null,
   "id": "c0c77e83",
   "metadata": {},
   "outputs": [
    {
     "name": "stdout",
     "output_type": "stream",
     "text": [
      "45.75342465753425\n"
     ]
    }
   ],
   "source": [
    "df = pd.read_csv(\"./data/arcade.csv\")\n",
    "memoria_lista = df[df[\"game\"] == \"Memória\"][\"score\"]\n",
    "reflexo_lista = df[df[\"game\"] == \"Reflexo\"][\"score\"]\n",
    "\n",
    "print(f\"O Jogo de Memoria teve a seguinte media: {np.mean(memoria_lista)}\")\n",
    "print(f\"O Jogo de Reflexo teve a seguinte media: {np.mean(reflexo_lista)}\")\n",
    "\n"
   ]
  },
  {
   "cell_type": "markdown",
   "id": "44c4d864",
   "metadata": {},
   "source": [
    "### Visualização\n",
    "\n",
    "- Top 5 jogadores (barra) por score médio.\n",
    "- Histograma de score por jogo (um por vez).\n",
    "- Série temporal: média diária de score do jogador selecionado."
   ]
  }
 ],
 "metadata": {
  "kernelspec": {
   "display_name": "venv",
   "language": "python",
   "name": "python3"
  },
  "language_info": {
   "codemirror_mode": {
    "name": "ipython",
    "version": 3
   },
   "file_extension": ".py",
   "mimetype": "text/x-python",
   "name": "python",
   "nbconvert_exporter": "python",
   "pygments_lexer": "ipython3",
   "version": "3.13.2"
  }
 },
 "nbformat": 4,
 "nbformat_minor": 5
}
