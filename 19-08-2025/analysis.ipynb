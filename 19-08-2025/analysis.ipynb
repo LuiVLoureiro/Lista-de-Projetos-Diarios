{
 "cells": [
  {
   "cell_type": "code",
   "execution_count": 1,
   "id": "b1cade39",
   "metadata": {},
   "outputs": [],
   "source": [
    "import pandas as pd\n",
    "import numpy as np"
   ]
  },
  {
   "cell_type": "markdown",
   "id": "aa2ea1b0",
   "metadata": {},
   "source": [
    "### Análise\n",
    "\n",
    "- média e desvio de score por game"
   ]
  },
  {
   "cell_type": "code",
   "execution_count": 2,
   "id": "c0c77e83",
   "metadata": {},
   "outputs": [
    {
     "name": "stdout",
     "output_type": "stream",
     "text": [
      "O Jogo de Memória teve a seguinte media: 476.87\n",
      "O Jogo de Memória teve o seguinte desvio: 13.24\n",
      "O Jogo de Reflexo teve a seguinte media: 47.16\n",
      "O Jogo de Reflexo teve o seguinte desvio: 29.26\n"
     ]
    }
   ],
   "source": [
    "df = pd.read_csv(\"./data/arcade.csv\")\n",
    "\n",
    "jogo_memoria = df[df[\"game\"] == \"Memória\"]\n",
    "jogo_reflexo = df[df[\"game\"] == \"Reflexo\"]\n",
    "\n",
    "memoria_lista = jogo_memoria[\"score\"]\n",
    "reflexo_lista = jogo_reflexo[\"score\"]\n",
    "\n",
    "print(f\"O Jogo de Memória teve a seguinte media: {np.mean(memoria_lista):.2f}\")\n",
    "print(f\"O Jogo de Memória teve o seguinte desvio: {np.std(memoria_lista):.2f}\")\n",
    "print(f\"O Jogo de Reflexo teve a seguinte media: {np.mean(reflexo_lista):.2f}\")\n",
    "print(f\"O Jogo de Reflexo teve o seguinte desvio: {np.std(reflexo_lista):.2f}\")\n",
    "\n"
   ]
  },
  {
   "cell_type": "markdown",
   "id": "0b16b782",
   "metadata": {},
   "source": [
    "- média e desvio por player"
   ]
  },
  {
   "cell_type": "code",
   "execution_count": 3,
   "id": "31d3c11b",
   "metadata": {},
   "outputs": [
    {
     "name": "stdout",
     "output_type": "stream",
     "text": [
      "Jogador: Ana \n",
      "Média: 237.20 \n",
      "Desvio: 218.08\n",
      "\n",
      "Jogador: Bruno \n",
      "Média: 283.17 \n",
      "Desvio: 214.76\n",
      "\n",
      "Jogador: Carlos \n",
      "Média: 270.09 \n",
      "Desvio: 218.86\n",
      "\n",
      "Jogador: Daniela \n",
      "Média: 245.45 \n",
      "Desvio: 210.13\n",
      "\n",
      "Jogador: Eduardo \n",
      "Média: 299.45 \n",
      "Desvio: 211.60\n",
      "\n"
     ]
    }
   ],
   "source": [
    "\n",
    "lista_jogadores = []\n",
    "for player in df[\"player\"]:\n",
    "    if player not in lista_jogadores:\n",
    "        lista_jogadores.append(player)\n",
    "    else:\n",
    "        pass\n",
    "\n",
    "for jogador in lista_jogadores:\n",
    "    score_jogador = df[df[\"player\"] == jogador][\"score\"]\n",
    "    print(f\"Jogador: {jogador} \\nMédia: {np.mean(score_jogador):.2f} \\nDesvio: {np.std(score_jogador):.2f}\\n\")\n",
    "\n",
    "\n"
   ]
  },
  {
   "cell_type": "markdown",
   "id": "65a9b4db",
   "metadata": {},
   "source": [
    "- média diária por player (usar ts → dia)"
   ]
  },
  {
   "cell_type": "code",
   "execution_count": 4,
   "id": "dddf049b",
   "metadata": {},
   "outputs": [
    {
     "name": "stdout",
     "output_type": "stream",
     "text": [
      "player   dia       \n",
      "Ana      2025-01-01    184.033333\n",
      "         2025-01-02    314.020000\n",
      "         2025-01-03     43.333333\n",
      "         2025-01-04    123.180000\n",
      "         2025-01-05    325.200000\n",
      "         2025-01-06    385.700000\n",
      "         2025-01-07    210.766667\n",
      "Bruno    2025-01-01    182.500000\n",
      "         2025-01-02    165.333333\n",
      "         2025-01-03    382.850000\n",
      "         2025-01-04    366.025000\n",
      "         2025-01-05    372.925000\n",
      "         2025-01-06    221.800000\n",
      "         2025-01-07    251.450000\n",
      "Carlos   2025-01-01    184.775000\n",
      "         2025-01-02    478.400000\n",
      "         2025-01-03    201.620000\n",
      "         2025-01-04    169.733333\n",
      "         2025-01-05    399.660000\n",
      "         2025-01-06    222.320000\n",
      "         2025-01-07    184.200000\n",
      "Daniela  2025-01-01    145.450000\n",
      "         2025-01-02    149.125000\n",
      "         2025-01-03    294.840000\n",
      "         2025-01-04    348.766667\n",
      "         2025-01-05    262.025000\n",
      "         2025-01-06    219.800000\n",
      "         2025-01-07    342.200000\n",
      "Eduardo  2025-01-01    270.825000\n",
      "         2025-01-02    211.733333\n",
      "         2025-01-03    254.875000\n",
      "         2025-01-04    376.225000\n",
      "         2025-01-05    384.460000\n",
      "         2025-01-06    186.700000\n",
      "         2025-01-07    353.500000\n",
      "Name: score, dtype: float64\n"
     ]
    }
   ],
   "source": [
    "\n",
    "\n",
    "df[\"ts\"] = pd.to_datetime(df[\"ts\"])\n",
    "\n",
    "df[\"dia\"] = df[\"ts\"].dt.date\n",
    "\n",
    "\n",
    "divisao = df.groupby([\"player\", \"dia\"])[\"score\"].mean()\n",
    "print(divisao)"
   ]
  },
  {
   "cell_type": "markdown",
   "id": "d357e8fb",
   "metadata": {},
   "source": [
    "- Percentis p10/p50/p90 por jogo (NumPy)."
   ]
  },
  {
   "cell_type": "code",
   "execution_count": 5,
   "id": "4cccf952",
   "metadata": {},
   "outputs": [
    {
     "name": "stdout",
     "output_type": "stream",
     "text": [
      "[458.96 477.6  494.71]\n",
      "[10. 50. 90.]\n"
     ]
    }
   ],
   "source": [
    "memoria_percentis = np.percentile(df[df[\"game\"] == \"Memória\"][\"score\"], [10, 50, 90])\n",
    "reflexo_percentis = np.percentile(df[df[\"game\"] == \"Reflexo\"][\"score\"], [10, 50, 90])\n",
    "print(memoria_percentis)\n",
    "print(reflexo_percentis)"
   ]
  },
  {
   "cell_type": "markdown",
   "id": "e2c004ed",
   "metadata": {},
   "source": [
    "- Z-score do score por jogo para marcar partidas “Épicas” (|z| ≥ 2)."
   ]
  },
  {
   "cell_type": "code",
   "execution_count": 7,
   "id": "e1639f90",
   "metadata": {},
   "outputs": [
    {
     "name": "stdout",
     "output_type": "stream",
     "text": [
      "[-1.12  1.45  1.04  1.25  1.44 -1.09  1.23 -1.24 -0.48  0.88 -1.34  0.41\n",
      " -0.71 -0.82 -0.25  0.68  0.38 -1.1   0.06 -0.2  -1.68  1.67  0.09  0.42\n",
      " -0.02 -1.75  0.4   1.68  0.74 -0.38  0.47 -0.37 -0.22 -0.96  1.69 -0.1\n",
      "  1.29 -1.93  0.8   0.29  1.06 -0.32 -1.89 -1.54 -0.44  0.32 -1.12  0.14\n",
      "  0.06  0.42 -0.84 -0.9  -0.21 -1.45  0.91  0.28 -0.31  0.63 -0.65 -1.93\n",
      "  0.27 -0.01  1.58  1.35  0.96 -1.25 -0.69  1.    0.67  1.35]\n",
      "[ 1.12 -1.27 -0.59  0.44  1.46 -0.24 -1.61  0.1  -1.27 -1.61  0.44 -0.93\n",
      "  0.1   1.12  0.78  0.44 -0.93 -0.93 -1.27  1.46  0.1   0.44 -1.61  0.44\n",
      "  1.46 -0.24 -0.59  1.12  0.78  1.46 -0.24 -1.61 -0.59 -1.27 -1.61  1.46\n",
      " -1.27  0.78  0.44 -1.27  0.78 -1.27  0.1   0.78  0.78 -0.59 -0.24 -0.93\n",
      " -0.24  1.46 -0.59  0.78  0.44  1.12 -0.93  1.12  0.78  0.44  1.46  0.44\n",
      "  1.46 -1.27  0.1  -1.27  0.44 -1.27  1.12]\n",
      "                     ts   player     game  score         dia\n",
      "67  2025-01-04 06:38:05   Carlos  Memória  499.2  2025-01-04\n",
      "57  2025-01-01 08:58:26   Carlos  Memória  499.1  2025-01-01\n",
      "42  2025-01-05 02:11:31    Bruno  Memória  499.0  2025-01-05\n",
      "125 2025-01-04 18:45:14  Eduardo  Memória  497.8  2025-01-04\n",
      "5   2025-01-02 07:01:34      Ana  Memória  496.1  2025-01-02\n",
      "                     ts   player     game  score         dia\n",
      "96  2025-01-04 05:46:10  Daniela  Reflexo   90.0  2025-01-04\n",
      "116 2025-01-02 06:00:26  Eduardo  Reflexo   90.0  2025-01-02\n",
      "119 2025-01-03 15:43:01  Eduardo  Reflexo   90.0  2025-01-03\n",
      "8   2025-01-03 19:35:23      Ana  Reflexo   90.0  2025-01-03\n",
      "35  2025-01-03 10:02:44    Bruno  Reflexo   90.0  2025-01-03\n"
     ]
    }
   ],
   "source": [
    "z_scores_memoria = np.round(((np.array(memoria_lista) - np.mean(memoria_lista))/np.std(memoria_lista)), 2)\n",
    "z_scores_reflexo = np.round(((np.array(reflexo_lista) - np.mean(reflexo_lista))/np.std(reflexo_lista)), 2)\n",
    "\n",
    "print(z_scores_memoria)\n",
    "print(z_scores_reflexo)\n",
    "\n",
    "partidas_epicas_memoria = np.argsort(z_scores_memoria)[::-1]\n",
    "partidas_epicas_reflexo = np.argsort(z_scores_reflexo)[::-1]\n",
    "\n",
    "memoria_indices_originais = jogo_memoria.index.values\n",
    "jogos_memoria = memoria_indices_originais[partidas_epicas_memoria]\n",
    "top5_memoria = df.loc[jogos_memoria[:5]]\n",
    "\n",
    "reflexo_indices_originais = jogo_reflexo.index.values\n",
    "jogos_reflexo = reflexo_indices_originais[partidas_epicas_reflexo]\n",
    "top5_reflexo = df.loc[jogos_reflexo[:5]]\n",
    "\n",
    "print(top5_memoria)\n",
    "print(top5_reflexo)"
   ]
  },
  {
   "cell_type": "markdown",
   "id": "44c4d864",
   "metadata": {},
   "source": [
    "### Visualização\n",
    "\n",
    "- Top 5 jogadores (barra) por score médio."
   ]
  },
  {
   "cell_type": "code",
   "execution_count": 42,
   "id": "fda46142",
   "metadata": {},
   "outputs": [
    {
     "data": {
      "image/png": "[encoded data removed]",
      "text/plain": [
       "<Figure size 1200x500 with 2 Axes>"
      ]
     },
     "metadata": {},
     "output_type": "display_data"
    }
   ],
   "source": [
    "import matplotlib.pyplot as plt\n",
    "\n",
    "df_top5 = df.groupby([\"player\", \"game\"])[\"score\"].mean().reset_index(name=\"score_medio\").round(2)\n",
    "\n",
    "df_maximos = df_top5.sort_values(by=[\"game\", \"score_medio\"], ascending=[True, False])\n",
    "\n",
    "maximos_memoria = df_maximos[df_maximos[\"game\"] == \"Memória\"]\n",
    "maximos_reflexo = df_maximos[df_maximos[\"game\"] == \"Reflexo\"]\n",
    "\n",
    "fig, ax = plt.subplots(1, 2, figsize=(12, 5))\n",
    "barras = ax[0].bar(maximos_memoria[\"player\"], maximos_memoria[\"score_medio\"])\n",
    "ax[0].set_ylim(469, 481)\n",
    "ax[0].set_title(\"Top 5: Memória\")\n",
    "\n",
    "for barra in barras:\n",
    "    altura = barra.get_height()\n",
    "    ax[0].text(barra.get_x() + barra.get_width() / 2, altura, f\"{altura:.2f}\", ha=\"center\", va=\"bottom\")\n",
    "\n",
    "\n",
    "barras = ax[1].bar(maximos_reflexo[\"player\"], maximos_reflexo[\"score_medio\"])\n",
    "ax[1].set_ylim(42, 55)\n",
    "ax[1].set_title(\"Top 5: Reflexo\")\n",
    "\n",
    "for barra in barras:\n",
    "    altura = barra.get_height()\n",
    "    ax[1].text(barra.get_x() + barra.get_width() / 2, altura, f\"{altura:.2f}\", ha=\"center\", va=\"bottom\")\n"
   ]
  },
  {
   "cell_type": "markdown",
   "id": "23b5f7d3",
   "metadata": {},
   "source": [
    "- Histograma de score por jogo (um por vez)."
   ]
  },
  {
   "cell_type": "code",
   "execution_count": null,
   "id": "a057326e",
   "metadata": {},
   "outputs": [
    {
     "data": {
      "text/plain": [
       "Text(0.5, 1.0, 'Histograma Score: Reflexo')"
      ]
     },
     "execution_count": 69,
     "metadata": {},
     "output_type": "execute_result"
    },
    {
     "data": {
      "image/png": "[encoded data removed]",
      "text/plain": [
       "<Figure size 640x480 with 1 Axes>"
      ]
     },
     "metadata": {},
     "output_type": "display_data"
    }
   ],
   "source": [
    "fig, ax = plt.subplots(1, 2, figsize=(12, 5))\n",
    "\n",
    "histograma_memoria = plt.hist(jogo_memoria[\"score\"], bins=30)\n",
    "plt.title(\"Histograma Score: Memória\")\n",
    "\n",
    "histograma_reflexo = plt.hist(jogo_reflexo[\"score\"], bins=30)\n",
    "plt.title(\"Histograma Score: Reflexo\")"
   ]
  },
  {
   "cell_type": "markdown",
   "id": "5f3c15cb",
   "metadata": {},
   "source": [
    "- Série temporal: média diária de score do jogador selecionado.\n"
   ]
  },
  {
   "cell_type": "code",
   "execution_count": null,
   "id": "b64b244e",
   "metadata": {},
   "outputs": [],
   "source": []
  }
 ],
 "metadata": {
  "kernelspec": {
   "display_name": "venv",
   "language": "python",
   "name": "python3"
  },
  "language_info": {
   "codemirror_mode": {
    "name": "ipython",
    "version": 3
   },
   "file_extension": ".py",
   "mimetype": "text/x-python",
   "name": "python",
   "nbconvert_exporter": "python",
   "pygments_lexer": "ipython3",
   "version": "3.13.2"
  }
 },
 "nbformat": 4,
 "nbformat_minor": 5
}
